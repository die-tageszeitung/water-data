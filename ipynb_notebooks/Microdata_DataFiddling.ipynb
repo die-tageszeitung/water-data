{
 "cells": [
  {
   "cell_type": "code",
   "execution_count": 1,
   "metadata": {},
   "outputs": [],
   "source": [
    "import pandas as pd\n",
    "import numpy as np\n",
    "import matplotlib.pyplot as plt\n",
    "import csv"
   ]
  },
  {
   "cell_type": "code",
   "execution_count": 2,
   "metadata": {},
   "outputs": [],
   "source": [
    "selectedmicrodata = pd.read_csv('/Users/francescamorini/projects/water-data/results/microdata/microdata_selectedrecipients.csv', sep=';')"
   ]
  },
  {
   "cell_type": "code",
   "execution_count": 3,
   "metadata": {},
   "outputs": [
    {
     "data": {
      "text/html": [
       "<div>\n",
       "<style scoped>\n",
       "    .dataframe tbody tr th:only-of-type {\n",
       "        vertical-align: middle;\n",
       "    }\n",
       "\n",
       "    .dataframe tbody tr th {\n",
       "        vertical-align: top;\n",
       "    }\n",
       "\n",
       "    .dataframe thead th {\n",
       "        text-align: right;\n",
       "    }\n",
       "</style>\n",
       "<table border=\"1\" class=\"dataframe\">\n",
       "  <thead>\n",
       "    <tr style=\"text-align: right;\">\n",
       "      <th></th>\n",
       "      <th>Unnamed: 0</th>\n",
       "      <th>DonorName</th>\n",
       "      <th>RecipientName</th>\n",
       "      <th>IncomegroupName</th>\n",
       "      <th>USD_Commitment_Defl</th>\n",
       "      <th>USD_Received_Defl</th>\n",
       "      <th>ShortDescription</th>\n",
       "      <th>ProjectTitle</th>\n",
       "      <th>PurposeName</th>\n",
       "      <th>SectorName</th>\n",
       "      <th>ChannelName</th>\n",
       "      <th>ChannelReportedName</th>\n",
       "      <th>ExpectedStartDate</th>\n",
       "      <th>CompletionDate</th>\n",
       "      <th>LongDescription</th>\n",
       "      <th>CommitmentDate</th>\n",
       "    </tr>\n",
       "  </thead>\n",
       "  <tbody>\n",
       "    <tr>\n",
       "      <th>342</th>\n",
       "      <td>224758</td>\n",
       "      <td>Germany</td>\n",
       "      <td>Tanzania</td>\n",
       "      <td>LDCs</td>\n",
       "      <td>16.014800</td>\n",
       "      <td>0.0</td>\n",
       "      <td>URBAN WATER SUPPLY II</td>\n",
       "      <td>URBAN WATER SUPPLY II</td>\n",
       "      <td>Water supply and sanitation - large systems</td>\n",
       "      <td>I.4. Water Supply &amp; Sanitation</td>\n",
       "      <td>Public Sector Institutions</td>\n",
       "      <td>Public sector</td>\n",
       "      <td>2005-12-01</td>\n",
       "      <td>2005-12-01</td>\n",
       "      <td>NaN</td>\n",
       "      <td>2005-07-12</td>\n",
       "    </tr>\n",
       "    <tr>\n",
       "      <th>846</th>\n",
       "      <td>26521</td>\n",
       "      <td>Germany</td>\n",
       "      <td>Bolivia</td>\n",
       "      <td>LMICs</td>\n",
       "      <td>0.010903</td>\n",
       "      <td>-0.0</td>\n",
       "      <td>SAFTEY WATER</td>\n",
       "      <td>Saftey water</td>\n",
       "      <td>Basic drinking water supply</td>\n",
       "      <td>I.4. Water Supply &amp; Sanitation</td>\n",
       "      <td>Donor country-based NGO</td>\n",
       "      <td>Donor country-based NGO</td>\n",
       "      <td>2011-01-01</td>\n",
       "      <td>2011-12-31</td>\n",
       "      <td>Saftey water</td>\n",
       "      <td>NaN</td>\n",
       "    </tr>\n",
       "    <tr>\n",
       "      <th>878</th>\n",
       "      <td>28866</td>\n",
       "      <td>Germany</td>\n",
       "      <td>Kenya</td>\n",
       "      <td>LMICs</td>\n",
       "      <td>0.028872</td>\n",
       "      <td>-0.0</td>\n",
       "      <td>WATER SUPPLY AND SANITATION -LARGE SYSTEMS</td>\n",
       "      <td>Water supply and sanitation -large systems</td>\n",
       "      <td>Water supply and sanitation - large systems</td>\n",
       "      <td>I.4. Water Supply &amp; Sanitation</td>\n",
       "      <td>Public Sector Institutions</td>\n",
       "      <td>GIZ</td>\n",
       "      <td>2011-01-01</td>\n",
       "      <td>2011-12-31</td>\n",
       "      <td>support for the implementation of the German d...</td>\n",
       "      <td>NaN</td>\n",
       "    </tr>\n",
       "    <tr>\n",
       "      <th>461</th>\n",
       "      <td>21002</td>\n",
       "      <td>Germany</td>\n",
       "      <td>Tanzania</td>\n",
       "      <td>LDCs</td>\n",
       "      <td>0.323677</td>\n",
       "      <td>0.0</td>\n",
       "      <td>BASIC DRINKING WATER SUPPLY AND BASIC SANITATION</td>\n",
       "      <td>Singa Village Water Supply, Tansania</td>\n",
       "      <td>Basic drinking water supply and basic sanitation</td>\n",
       "      <td>I.4. Water Supply &amp; Sanitation</td>\n",
       "      <td>Non-Governmental Organisation (NGO) and Civil ...</td>\n",
       "      <td>NGOs and civil society</td>\n",
       "      <td>NaN</td>\n",
       "      <td>NaN</td>\n",
       "      <td>Singa Village Water Supply, Tansania</td>\n",
       "      <td>NaN</td>\n",
       "    </tr>\n",
       "    <tr>\n",
       "      <th>376</th>\n",
       "      <td>266434</td>\n",
       "      <td>Germany</td>\n",
       "      <td>India</td>\n",
       "      <td>LMICs</td>\n",
       "      <td>0.027349</td>\n",
       "      <td>NaN</td>\n",
       "      <td>RAIL TRANSPORT</td>\n",
       "      <td>PLANING AND IMPLEMENTATION OF DECENTRALIZED WA...</td>\n",
       "      <td>Basic drinking water supply and basic sanitation</td>\n",
       "      <td>I.4. Water Supply &amp; Sanitation</td>\n",
       "      <td>Non-Governmental Organisation (NGO) and Civil ...</td>\n",
       "      <td>NGOs and civil society</td>\n",
       "      <td>2005-05-15</td>\n",
       "      <td>2005-12-31</td>\n",
       "      <td>NaN</td>\n",
       "      <td>2005-12-31</td>\n",
       "    </tr>\n",
       "  </tbody>\n",
       "</table>\n",
       "</div>"
      ],
      "text/plain": [
       "     Unnamed: 0 DonorName RecipientName IncomegroupName  USD_Commitment_Defl  \\\n",
       "342      224758   Germany      Tanzania            LDCs            16.014800   \n",
       "846       26521   Germany       Bolivia           LMICs             0.010903   \n",
       "878       28866   Germany         Kenya           LMICs             0.028872   \n",
       "461       21002   Germany      Tanzania            LDCs             0.323677   \n",
       "376      266434   Germany         India           LMICs             0.027349   \n",
       "\n",
       "     USD_Received_Defl                                  ShortDescription  \\\n",
       "342                0.0                             URBAN WATER SUPPLY II   \n",
       "846               -0.0                                      SAFTEY WATER   \n",
       "878               -0.0        WATER SUPPLY AND SANITATION -LARGE SYSTEMS   \n",
       "461                0.0  BASIC DRINKING WATER SUPPLY AND BASIC SANITATION   \n",
       "376                NaN                                    RAIL TRANSPORT   \n",
       "\n",
       "                                          ProjectTitle  \\\n",
       "342                              URBAN WATER SUPPLY II   \n",
       "846                                       Saftey water   \n",
       "878         Water supply and sanitation -large systems   \n",
       "461               Singa Village Water Supply, Tansania   \n",
       "376  PLANING AND IMPLEMENTATION OF DECENTRALIZED WA...   \n",
       "\n",
       "                                          PurposeName  \\\n",
       "342       Water supply and sanitation - large systems   \n",
       "846                       Basic drinking water supply   \n",
       "878       Water supply and sanitation - large systems   \n",
       "461  Basic drinking water supply and basic sanitation   \n",
       "376  Basic drinking water supply and basic sanitation   \n",
       "\n",
       "                         SectorName  \\\n",
       "342  I.4. Water Supply & Sanitation   \n",
       "846  I.4. Water Supply & Sanitation   \n",
       "878  I.4. Water Supply & Sanitation   \n",
       "461  I.4. Water Supply & Sanitation   \n",
       "376  I.4. Water Supply & Sanitation   \n",
       "\n",
       "                                           ChannelName  \\\n",
       "342                         Public Sector Institutions   \n",
       "846                            Donor country-based NGO   \n",
       "878                         Public Sector Institutions   \n",
       "461  Non-Governmental Organisation (NGO) and Civil ...   \n",
       "376  Non-Governmental Organisation (NGO) and Civil ...   \n",
       "\n",
       "         ChannelReportedName ExpectedStartDate CompletionDate  \\\n",
       "342            Public sector        2005-12-01     2005-12-01   \n",
       "846  Donor country-based NGO        2011-01-01     2011-12-31   \n",
       "878                      GIZ        2011-01-01     2011-12-31   \n",
       "461   NGOs and civil society               NaN            NaN   \n",
       "376   NGOs and civil society        2005-05-15     2005-12-31   \n",
       "\n",
       "                                       LongDescription CommitmentDate  \n",
       "342                                                NaN     2005-07-12  \n",
       "846                                       Saftey water            NaN  \n",
       "878  support for the implementation of the German d...            NaN  \n",
       "461               Singa Village Water Supply, Tansania            NaN  \n",
       "376                                                NaN     2005-12-31  "
      ]
     },
     "execution_count": 3,
     "metadata": {},
     "output_type": "execute_result"
    }
   ],
   "source": [
    "selectedmicrodata.sample(5)"
   ]
  },
  {
   "cell_type": "markdown",
   "metadata": {},
   "source": [
    "Creating a slim version of data to avoid too many fields for vis and trailing commas problem"
   ]
  },
  {
   "cell_type": "code",
   "execution_count": 4,
   "metadata": {},
   "outputs": [],
   "source": [
    "cleaned_selection = selectedmicrodata.drop(columns=[\"Unnamed: 0\",\"ProjectTitle\",\"PurposeName\",\"SectorName\",\"ExpectedStartDate\",\"CompletionDate\",\"LongDescription\"])"
   ]
  },
  {
   "cell_type": "code",
   "execution_count": 5,
   "metadata": {},
   "outputs": [
    {
     "data": {
      "text/html": [
       "<div>\n",
       "<style scoped>\n",
       "    .dataframe tbody tr th:only-of-type {\n",
       "        vertical-align: middle;\n",
       "    }\n",
       "\n",
       "    .dataframe tbody tr th {\n",
       "        vertical-align: top;\n",
       "    }\n",
       "\n",
       "    .dataframe thead th {\n",
       "        text-align: right;\n",
       "    }\n",
       "</style>\n",
       "<table border=\"1\" class=\"dataframe\">\n",
       "  <thead>\n",
       "    <tr style=\"text-align: right;\">\n",
       "      <th></th>\n",
       "      <th>DonorName</th>\n",
       "      <th>RecipientName</th>\n",
       "      <th>IncomegroupName</th>\n",
       "      <th>USD_Commitment_Defl</th>\n",
       "      <th>USD_Received_Defl</th>\n",
       "      <th>ShortDescription</th>\n",
       "      <th>ChannelName</th>\n",
       "      <th>ChannelReportedName</th>\n",
       "      <th>CommitmentDate</th>\n",
       "    </tr>\n",
       "  </thead>\n",
       "  <tbody>\n",
       "    <tr>\n",
       "      <th>1042</th>\n",
       "      <td>Germany</td>\n",
       "      <td>Ethiopia</td>\n",
       "      <td>LDCs</td>\n",
       "      <td>3.632030</td>\n",
       "      <td>-0.0</td>\n",
       "      <td>REGIONAL UNHCR PROJECT IN EAST AFRICA</td>\n",
       "      <td>United Nations Office of the United Nations Hi...</td>\n",
       "      <td>United Nations Office of the United Nations Hi...</td>\n",
       "      <td>2016-05-10</td>\n",
       "    </tr>\n",
       "    <tr>\n",
       "      <th>93</th>\n",
       "      <td>Germany</td>\n",
       "      <td>Burundi</td>\n",
       "      <td>LDCs</td>\n",
       "      <td>7.055230</td>\n",
       "      <td>NaN</td>\n",
       "      <td>RURAL WATER SUPPLY</td>\n",
       "      <td>NaN</td>\n",
       "      <td>MINISTERE DES FINANCES</td>\n",
       "      <td>1994-09-01</td>\n",
       "    </tr>\n",
       "    <tr>\n",
       "      <th>947</th>\n",
       "      <td>Germany</td>\n",
       "      <td>Burundi</td>\n",
       "      <td>LDCs</td>\n",
       "      <td>21.580900</td>\n",
       "      <td>-0.0</td>\n",
       "      <td>WATER AND SANITATION SECTORAL PROGRAMME, PHASE...</td>\n",
       "      <td>Public Sector Institutions</td>\n",
       "      <td>KfW</td>\n",
       "      <td>2013-01-22</td>\n",
       "    </tr>\n",
       "    <tr>\n",
       "      <th>891</th>\n",
       "      <td>Germany</td>\n",
       "      <td>Uganda</td>\n",
       "      <td>LDCs</td>\n",
       "      <td>0.011421</td>\n",
       "      <td>-0.0</td>\n",
       "      <td>WATER RESOURCES POLICY AND ADMINISTRATIVE MANA...</td>\n",
       "      <td>Public Sector Institutions</td>\n",
       "      <td>GIZ</td>\n",
       "      <td>NaN</td>\n",
       "    </tr>\n",
       "    <tr>\n",
       "      <th>600</th>\n",
       "      <td>Germany</td>\n",
       "      <td>Sudan</td>\n",
       "      <td>LDCs</td>\n",
       "      <td>0.007898</td>\n",
       "      <td>-0.0</td>\n",
       "      <td>THE EXPERT IS ASSIGNED FOR TRAINING AND LECTUR...</td>\n",
       "      <td>Public Sector Institutions</td>\n",
       "      <td>Public sector</td>\n",
       "      <td>NaN</td>\n",
       "    </tr>\n",
       "  </tbody>\n",
       "</table>\n",
       "</div>"
      ],
      "text/plain": [
       "     DonorName RecipientName IncomegroupName  USD_Commitment_Defl  \\\n",
       "1042   Germany      Ethiopia            LDCs             3.632030   \n",
       "93     Germany       Burundi            LDCs             7.055230   \n",
       "947    Germany       Burundi            LDCs            21.580900   \n",
       "891    Germany        Uganda            LDCs             0.011421   \n",
       "600    Germany         Sudan            LDCs             0.007898   \n",
       "\n",
       "      USD_Received_Defl                                   ShortDescription  \\\n",
       "1042               -0.0              REGIONAL UNHCR PROJECT IN EAST AFRICA   \n",
       "93                  NaN                                 RURAL WATER SUPPLY   \n",
       "947                -0.0  WATER AND SANITATION SECTORAL PROGRAMME, PHASE...   \n",
       "891                -0.0  WATER RESOURCES POLICY AND ADMINISTRATIVE MANA...   \n",
       "600                -0.0  THE EXPERT IS ASSIGNED FOR TRAINING AND LECTUR...   \n",
       "\n",
       "                                            ChannelName  \\\n",
       "1042  United Nations Office of the United Nations Hi...   \n",
       "93                                                  NaN   \n",
       "947                          Public Sector Institutions   \n",
       "891                          Public Sector Institutions   \n",
       "600                          Public Sector Institutions   \n",
       "\n",
       "                                    ChannelReportedName CommitmentDate  \n",
       "1042  United Nations Office of the United Nations Hi...     2016-05-10  \n",
       "93                               MINISTERE DES FINANCES     1994-09-01  \n",
       "947                                                 KfW     2013-01-22  \n",
       "891                                                 GIZ            NaN  \n",
       "600                                       Public sector            NaN  "
      ]
     },
     "execution_count": 5,
     "metadata": {},
     "output_type": "execute_result"
    }
   ],
   "source": [
    "cleaned_selection.sample(5)"
   ]
  },
  {
   "cell_type": "markdown",
   "metadata": {},
   "source": [
    "Exporting with standard sep and no index for prototyping"
   ]
  },
  {
   "cell_type": "code",
   "execution_count": 6,
   "metadata": {},
   "outputs": [],
   "source": [
    "cleaned_selection.to_csv('selected_microdata.csv', sep=',', index=False)"
   ]
  },
  {
   "cell_type": "markdown",
   "metadata": {},
   "source": [
    "Doing some calculations to get money % according to income groups"
   ]
  },
  {
   "cell_type": "code",
   "execution_count": 7,
   "metadata": {},
   "outputs": [],
   "source": [
    "countries = cleaned_selection['RecipientName'].unique()"
   ]
  },
  {
   "cell_type": "code",
   "execution_count": 8,
   "metadata": {},
   "outputs": [
    {
     "data": {
      "text/plain": [
       "array(['Tanzania', 'Bolivia', 'Kenya', 'Ethiopia', 'Sudan', 'Burundi',\n",
       "       'Bangladesh', 'Lebanon', 'Egypt', 'Rwanda', 'India', 'Colombia',\n",
       "       'Uganda'], dtype=object)"
      ]
     },
     "execution_count": 8,
     "metadata": {},
     "output_type": "execute_result"
    }
   ],
   "source": [
    "countries"
   ]
  },
  {
   "cell_type": "code",
   "execution_count": 9,
   "metadata": {},
   "outputs": [
    {
     "name": "stdout",
     "output_type": "stream",
     "text": [
      "LMICs\n",
      "58.2412134936116\n",
      "--------\n",
      "Bolivia\n",
      "11.95913699745467\n",
      "Kenya\n",
      "14.151360672533468\n",
      "Egypt\n",
      "17.260749453275313\n",
      "India\n",
      "14.86996637034815\n",
      "58.2412134936116\n",
      "--------\n",
      "LDCs\n",
      "34.88454453864079\n",
      "--------\n",
      "Tanzania\n",
      "13.085009347279655\n",
      "Ethiopia\n",
      "2.121438322643363\n",
      "Sudan\n",
      "2.1670801576507426\n",
      "Burundi\n",
      "6.167040549987557\n",
      "Bangladesh\n",
      "2.5428288881536587\n",
      "Rwanda\n",
      "1.3280894132733618\n",
      "Uganda\n",
      "7.47305785965245\n",
      "34.88454453864079\n",
      "--------\n",
      "UMICs\n",
      "6.874241967747618\n",
      "--------\n",
      "Lebanon\n",
      "4.828232301297417\n",
      "Colombia\n",
      "2.0460096664501997\n",
      "6.874241967747617\n",
      "--------\n",
      "100.00000000000001\n"
     ]
    }
   ],
   "source": [
    "#Calculating projects % values for income groups and single countries\n",
    "\n",
    "incomeNames = ['LMICs', 'LDCs', 'UMICs']\n",
    "fullTotal = 0\n",
    "\n",
    "for name in incomeNames: \n",
    "    total = cleaned_selection[\"USD_Commitment_Defl\"].sum()\n",
    "    sumElement = cleaned_selection[\"USD_Commitment_Defl\"].loc[cleaned_selection[\"IncomegroupName\"] == name].sum()\n",
    "    subSelection = cleaned_selection.loc[cleaned_selection[\"IncomegroupName\"] == name]\n",
    "    perc = sumElement * 100 / total\n",
    "    fullTotal = fullTotal + perc\n",
    "    subTotal = 0\n",
    "    print(name)\n",
    "    print(perc)\n",
    "    print('--------')\n",
    "    \n",
    "    for country in countries:\n",
    "        sumCountry = subSelection[\"USD_Commitment_Defl\"].loc[subSelection[\"RecipientName\"] == country].sum() \n",
    "        subPerc = sumCountry * 100 / total\n",
    "        subTotal = subTotal + subPerc\n",
    "        if subPerc != 0:\n",
    "            print(country)\n",
    "            print(subPerc)\n",
    "    print(subTotal)\n",
    "    print('--------')\n",
    "    \n",
    "print(fullTotal)"
   ]
  },
  {
   "cell_type": "markdown",
   "metadata": {},
   "source": [
    "Working on time series to determine how spending evolved."
   ]
  },
  {
   "cell_type": "code",
   "execution_count": 10,
   "metadata": {},
   "outputs": [],
   "source": [
    "cleaned_selection[\"CommitmentDate\"] = pd.to_datetime(cleaned_selection[\"CommitmentDate\"])"
   ]
  },
  {
   "cell_type": "code",
   "execution_count": 11,
   "metadata": {},
   "outputs": [],
   "source": [
    "cleaned_selection['year'] = cleaned_selection[\"CommitmentDate\"].dt.year"
   ]
  },
  {
   "cell_type": "code",
   "execution_count": 12,
   "metadata": {},
   "outputs": [
    {
     "data": {
      "text/html": [
       "<div>\n",
       "<style scoped>\n",
       "    .dataframe tbody tr th:only-of-type {\n",
       "        vertical-align: middle;\n",
       "    }\n",
       "\n",
       "    .dataframe tbody tr th {\n",
       "        vertical-align: top;\n",
       "    }\n",
       "\n",
       "    .dataframe thead th {\n",
       "        text-align: right;\n",
       "    }\n",
       "</style>\n",
       "<table border=\"1\" class=\"dataframe\">\n",
       "  <thead>\n",
       "    <tr style=\"text-align: right;\">\n",
       "      <th></th>\n",
       "      <th>DonorName</th>\n",
       "      <th>RecipientName</th>\n",
       "      <th>IncomegroupName</th>\n",
       "      <th>USD_Commitment_Defl</th>\n",
       "      <th>USD_Received_Defl</th>\n",
       "      <th>ShortDescription</th>\n",
       "      <th>ChannelName</th>\n",
       "      <th>ChannelReportedName</th>\n",
       "      <th>CommitmentDate</th>\n",
       "      <th>year</th>\n",
       "    </tr>\n",
       "  </thead>\n",
       "  <tbody>\n",
       "    <tr>\n",
       "      <th>364</th>\n",
       "      <td>Germany</td>\n",
       "      <td>Lebanon</td>\n",
       "      <td>UMICs</td>\n",
       "      <td>0.008995</td>\n",
       "      <td>NaN</td>\n",
       "      <td>WASTE MANAGEMENT/DISPOSAL</td>\n",
       "      <td>Public Sector Institutions</td>\n",
       "      <td>Public sector</td>\n",
       "      <td>2005-12-31</td>\n",
       "      <td>2005.0</td>\n",
       "    </tr>\n",
       "    <tr>\n",
       "      <th>256</th>\n",
       "      <td>Germany</td>\n",
       "      <td>Lebanon</td>\n",
       "      <td>UMICs</td>\n",
       "      <td>0.147231</td>\n",
       "      <td>NaN</td>\n",
       "      <td>DRINKING WATER STERILISATION</td>\n",
       "      <td>NaN</td>\n",
       "      <td>NaN</td>\n",
       "      <td>2002-12-31</td>\n",
       "      <td>2002.0</td>\n",
       "    </tr>\n",
       "    <tr>\n",
       "      <th>339</th>\n",
       "      <td>Germany</td>\n",
       "      <td>Tanzania</td>\n",
       "      <td>LDCs</td>\n",
       "      <td>8.559590</td>\n",
       "      <td>NaN</td>\n",
       "      <td>RURAL WATER SUPPLY EAST KILIMAJA, PH. II</td>\n",
       "      <td>Public Sector Institutions</td>\n",
       "      <td>Public sector</td>\n",
       "      <td>2005-07-12</td>\n",
       "      <td>2005.0</td>\n",
       "    </tr>\n",
       "    <tr>\n",
       "      <th>885</th>\n",
       "      <td>Germany</td>\n",
       "      <td>Uganda</td>\n",
       "      <td>LDCs</td>\n",
       "      <td>0.003769</td>\n",
       "      <td>-0.0</td>\n",
       "      <td>WATER SUPPLY AND SANITATION -LARGE SYSTEMS</td>\n",
       "      <td>Public Sector Institutions</td>\n",
       "      <td>GIZ</td>\n",
       "      <td>NaT</td>\n",
       "      <td>NaN</td>\n",
       "    </tr>\n",
       "    <tr>\n",
       "      <th>1178</th>\n",
       "      <td>Germany</td>\n",
       "      <td>Kenya</td>\n",
       "      <td>LMICs</td>\n",
       "      <td>17.370500</td>\n",
       "      <td>0.0</td>\n",
       "      <td>WATER AND SANITATION TO PROTECT BIODIVERSITY</td>\n",
       "      <td>Central Government</td>\n",
       "      <td>Central Government</td>\n",
       "      <td>2019-12-30</td>\n",
       "      <td>2019.0</td>\n",
       "    </tr>\n",
       "  </tbody>\n",
       "</table>\n",
       "</div>"
      ],
      "text/plain": [
       "     DonorName RecipientName IncomegroupName  USD_Commitment_Defl  \\\n",
       "364    Germany       Lebanon           UMICs             0.008995   \n",
       "256    Germany       Lebanon           UMICs             0.147231   \n",
       "339    Germany      Tanzania            LDCs             8.559590   \n",
       "885    Germany        Uganda            LDCs             0.003769   \n",
       "1178   Germany         Kenya           LMICs            17.370500   \n",
       "\n",
       "      USD_Received_Defl                              ShortDescription  \\\n",
       "364                 NaN                     WASTE MANAGEMENT/DISPOSAL   \n",
       "256                 NaN                  DRINKING WATER STERILISATION   \n",
       "339                 NaN      RURAL WATER SUPPLY EAST KILIMAJA, PH. II   \n",
       "885                -0.0    WATER SUPPLY AND SANITATION -LARGE SYSTEMS   \n",
       "1178                0.0  WATER AND SANITATION TO PROTECT BIODIVERSITY   \n",
       "\n",
       "                     ChannelName ChannelReportedName CommitmentDate    year  \n",
       "364   Public Sector Institutions       Public sector     2005-12-31  2005.0  \n",
       "256                          NaN                 NaN     2002-12-31  2002.0  \n",
       "339   Public Sector Institutions       Public sector     2005-07-12  2005.0  \n",
       "885   Public Sector Institutions                 GIZ            NaT     NaN  \n",
       "1178          Central Government  Central Government     2019-12-30  2019.0  "
      ]
     },
     "execution_count": 12,
     "metadata": {},
     "output_type": "execute_result"
    }
   ],
   "source": [
    "cleaned_selection.sample(5)"
   ]
  },
  {
   "cell_type": "markdown",
   "metadata": {},
   "source": [
    "The data goes way back before 1980!"
   ]
  },
  {
   "cell_type": "code",
   "execution_count": 13,
   "metadata": {},
   "outputs": [
    {
     "data": {
      "text/plain": [
       "Timestamp('1973-05-01 00:00:00')"
      ]
     },
     "execution_count": 13,
     "metadata": {},
     "output_type": "execute_result"
    }
   ],
   "source": [
    "cleaned_selection[\"CommitmentDate\"].min()"
   ]
  },
  {
   "cell_type": "code",
   "execution_count": 14,
   "metadata": {},
   "outputs": [
    {
     "data": {
      "text/plain": [
       "Timestamp('2019-12-31 00:00:00')"
      ]
     },
     "execution_count": 14,
     "metadata": {},
     "output_type": "execute_result"
    }
   ],
   "source": [
    "cleaned_selection[\"CommitmentDate\"].max()"
   ]
  },
  {
   "cell_type": "code",
   "execution_count": 15,
   "metadata": {},
   "outputs": [],
   "source": [
    "sorted_selection = cleaned_selection.sort_values(by='CommitmentDate', ascending=True, inplace=False, kind='quicksort', na_position='last')"
   ]
  },
  {
   "cell_type": "code",
   "execution_count": 17,
   "metadata": {},
   "outputs": [],
   "source": [
    "cleaned_selection.to_csv('data/historically_ordered.csv', sep=',', index=False,na_rep='NaN')"
   ]
  },
  {
   "cell_type": "markdown",
   "metadata": {},
   "source": [
    "Checking what's NaN. A lot of information on projects years and Donor's channel."
   ]
  },
  {
   "cell_type": "code",
   "execution_count": 18,
   "metadata": {},
   "outputs": [
    {
     "data": {
      "text/plain": [
       "DonorName                0\n",
       "RecipientName            0\n",
       "IncomegroupName          0\n",
       "USD_Commitment_Defl      0\n",
       "USD_Received_Defl      301\n",
       "ShortDescription         0\n",
       "ChannelName            308\n",
       "ChannelReportedName    233\n",
       "CommitmentDate         445\n",
       "year                   445\n",
       "dtype: int64"
      ]
     },
     "execution_count": 18,
     "metadata": {},
     "output_type": "execute_result"
    }
   ],
   "source": [
    "cleaned_selection.isna().sum()"
   ]
  },
  {
   "cell_type": "markdown",
   "metadata": {},
   "source": [
    "Generating a file with only labels and counts to see if there are recurring projects or similar projects appearing."
   ]
  },
  {
   "cell_type": "code",
   "execution_count": 36,
   "metadata": {},
   "outputs": [],
   "source": [
    "labels = cleaned_selection['ShortDescription'].unique()\n",
    "value_counts = cleaned_selection['ShortDescription'].value_counts()\n",
    "\n",
    "\n",
    "project_descriptions = pd.DataFrame(value_counts)"
   ]
  },
  {
   "cell_type": "code",
   "execution_count": 37,
   "metadata": {
    "collapsed": true
   },
   "outputs": [
    {
     "data": {
      "text/html": [
       "<div>\n",
       "<style scoped>\n",
       "    .dataframe tbody tr th:only-of-type {\n",
       "        vertical-align: middle;\n",
       "    }\n",
       "\n",
       "    .dataframe tbody tr th {\n",
       "        vertical-align: top;\n",
       "    }\n",
       "\n",
       "    .dataframe thead th {\n",
       "        text-align: right;\n",
       "    }\n",
       "</style>\n",
       "<table border=\"1\" class=\"dataframe\">\n",
       "  <thead>\n",
       "    <tr style=\"text-align: right;\">\n",
       "      <th></th>\n",
       "      <th>ShortDescription</th>\n",
       "    </tr>\n",
       "  </thead>\n",
       "  <tbody>\n",
       "    <tr>\n",
       "      <th>BASIC DRINKING WATER SUPPLY AND BASIC SANITATION</th>\n",
       "      <td>94</td>\n",
       "    </tr>\n",
       "    <tr>\n",
       "      <th>WATER SUPPLY AND SANITATION - LARGE SYSTEMS</th>\n",
       "      <td>35</td>\n",
       "    </tr>\n",
       "    <tr>\n",
       "      <th>WATER RESOURCES PROTECTION</th>\n",
       "      <td>35</td>\n",
       "    </tr>\n",
       "    <tr>\n",
       "      <th>SCIENTIFIC COOPERATION WITH OTHER COUNTRIES (NOT INCLUDED IN OTHER AREAS)</th>\n",
       "      <td>32</td>\n",
       "    </tr>\n",
       "    <tr>\n",
       "      <th>WATER RESOURCES POLICY/ADMIN. MGMT</th>\n",
       "      <td>27</td>\n",
       "    </tr>\n",
       "    <tr>\n",
       "      <th>...</th>\n",
       "      <td>...</td>\n",
       "    </tr>\n",
       "    <tr>\n",
       "      <th>WATER TANKS FOR TANZANIA</th>\n",
       "      <td>1</td>\n",
       "    </tr>\n",
       "    <tr>\n",
       "      <th>WATER FOR THE NOMADS IN NORTHERN KENYA</th>\n",
       "      <td>1</td>\n",
       "    </tr>\n",
       "    <tr>\n",
       "      <th>NAIROBI WATER DISTRIBUTION PROGRAMME</th>\n",
       "      <td>1</td>\n",
       "    </tr>\n",
       "    <tr>\n",
       "      <th>WATER SUPPLY, TABORA</th>\n",
       "      <td>1</td>\n",
       "    </tr>\n",
       "    <tr>\n",
       "      <th>IMPROVEMENT OF WATER, HYGIENE AND SANITATION CONDITIONS IN THE WUCHALE AND JIDA DISTRICTS (WOREDAS) IN NORTH SHEWA ZONE OF THE OROMIYA REGIONAL STATE</th>\n",
       "      <td>1</td>\n",
       "    </tr>\n",
       "  </tbody>\n",
       "</table>\n",
       "<p>544 rows × 1 columns</p>\n",
       "</div>"
      ],
      "text/plain": [
       "                                                    ShortDescription\n",
       "BASIC DRINKING WATER SUPPLY AND BASIC SANITATION                  94\n",
       "WATER SUPPLY AND SANITATION - LARGE SYSTEMS                       35\n",
       "WATER RESOURCES PROTECTION                                        35\n",
       "SCIENTIFIC COOPERATION WITH OTHER COUNTRIES (NO...                32\n",
       "WATER RESOURCES POLICY/ADMIN. MGMT                                27\n",
       "...                                                              ...\n",
       "WATER TANKS FOR TANZANIA                                           1\n",
       "WATER FOR THE NOMADS IN NORTHERN KENYA                             1\n",
       "NAIROBI WATER DISTRIBUTION PROGRAMME                               1\n",
       "WATER SUPPLY, TABORA                                               1\n",
       "IMPROVEMENT OF WATER, HYGIENE AND SANITATION CO...                 1\n",
       "\n",
       "[544 rows x 1 columns]"
      ]
     },
     "execution_count": 37,
     "metadata": {},
     "output_type": "execute_result"
    }
   ],
   "source": [
    "project_descriptions"
   ]
  },
  {
   "cell_type": "code",
   "execution_count": 45,
   "metadata": {},
   "outputs": [],
   "source": [
    "project_descriptions.reset_index(level=0, inplace=True)"
   ]
  },
  {
   "cell_type": "code",
   "execution_count": 50,
   "metadata": {},
   "outputs": [],
   "source": [
    "clean_descriptions = project_descriptions.drop(columns=['index', 'level_0'])"
   ]
  },
  {
   "cell_type": "code",
   "execution_count": 51,
   "metadata": {},
   "outputs": [],
   "source": [
    "clean_descriptions.to_csv('data/projects_descriptions.csv', sep=',', index=False,na_rep='NaN')"
   ]
  },
  {
   "cell_type": "code",
   "execution_count": 56,
   "metadata": {},
   "outputs": [],
   "source": [
    "years = sorted_selection['year'].unique()"
   ]
  },
  {
   "cell_type": "code",
   "execution_count": 66,
   "metadata": {},
   "outputs": [
    {
     "data": {
      "text/plain": [
       "89.10677331041667"
      ]
     },
     "execution_count": 66,
     "metadata": {},
     "output_type": "execute_result"
    }
   ],
   "source": [
    "sumValues = []\n",
    "\n",
    "for year in years:\n",
    "    singleyear = sorted_selection.loc[sorted_selection['year'] == year, 'USD_Commitment_Defl'].sum()\n",
    "    sumValues.append(singleyear)\n",
    "\n",
    "import statistics\n",
    "statistics.mean(sumValues)"
   ]
  },
  {
   "cell_type": "code",
   "execution_count": null,
   "metadata": {},
   "outputs": [],
   "source": []
  }
 ],
 "metadata": {
  "kernelspec": {
   "display_name": "my_env",
   "language": "python",
   "name": "my_env"
  },
  "language_info": {
   "codemirror_mode": {
    "name": "ipython",
    "version": 3
   },
   "file_extension": ".py",
   "mimetype": "text/x-python",
   "name": "python",
   "nbconvert_exporter": "python",
   "pygments_lexer": "ipython3",
   "version": "3.8.5"
  }
 },
 "nbformat": 4,
 "nbformat_minor": 4
}
